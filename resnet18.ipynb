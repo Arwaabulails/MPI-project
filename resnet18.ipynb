{
  "cells": [
    {
      "cell_type": "code",
      "source": [
        "import os\n",
        "import torch\n",
        "import torch.nn as nn\n",
        "import torch.optim as optim\n",
        "from torch.utils.data import Dataset, DataLoader\n",
        "from torchvision import models, transforms, datasets\n",
        "from PIL import Image\n",
        "import numpy as np\n",
        "from sklearn.metrics import f1_score, recall_score, precision_score\n",
        "import matplotlib.pyplot as plt\n",
        "import seaborn as sns\n",
        "from google.colab import drive\n",
        "\n",
        "# Mount Google Drive\n",
        "drive.mount('/content/drive')"
      ],
      "metadata": {
        "colab": {
          "base_uri": "https://localhost:8080/"
        },
        "id": "YyJT6HLz3ceC",
        "outputId": "b7ee2156-de58-4a04-dfb9-77a51c0d2046"
      },
      "execution_count": 1,
      "outputs": [
        {
          "output_type": "stream",
          "name": "stdout",
          "text": [
            "Drive already mounted at /content/drive; to attempt to forcibly remount, call drive.mount(\"/content/drive\", force_remount=True).\n"
          ]
        }
      ]
    },
    {
      "cell_type": "code",
      "source": [
        "# Define paths\n",
        "base_path = '/content/drive/MyDrive/MPI data/newww_dataset'\n",
        "\n",
        "classes = {\n",
        "    \"Infarction\": {\"rest\": \"Infarction/rest\", \"stress\": \"Infarction/stress\"},\n",
        "    \"Ischemia\": {\"rest\": \"Ischemia/rest\", \"stress\": \"Ischemia/stress\"},\n",
        "    \"Normal\": {\"rest\": \"Normal/rest\", \"stress\": \"Normal/stress\"}\n",
        "}\n"
      ],
      "metadata": {
        "id": "sPitIXZL3kZF"
      },
      "execution_count": 5,
      "outputs": []
    },
    {
      "cell_type": "code",
      "source": [
        "# Define transforms\n",
        "train_transform = transforms.Compose([\n",
        "    transforms.Resize((224, 224)),\n",
        "    transforms.RandomHorizontalFlip(),\n",
        "    transforms.RandomRotation(10),\n",
        "    transforms.ToTensor(),\n",
        "    transforms.Normalize(mean=[0.485, 0.456, 0.406], std=[0.229, 0.224, 0.225])\n",
        "])\n",
        "\n",
        "val_transform = transforms.Compose([\n",
        "    transforms.Resize((224, 224)),\n",
        "    transforms.ToTensor(),\n",
        "    transforms.Normalize(mean=[0.485, 0.456, 0.406], std=[0.229, 0.224, 0.225])\n",
        "])"
      ],
      "metadata": {
        "id": "fY40JmdR3kiR"
      },
      "execution_count": 6,
      "outputs": []
    },
    {
      "cell_type": "code",
      "source": [
        "class MPIDataset(Dataset):\n",
        "    def __init__(self, base_path, classes, transform=None):\n",
        "        self.base_path = base_path\n",
        "        self.transform = transform\n",
        "        self.classes = classes\n",
        "        self.data = []\n",
        "        self.labels = []\n",
        "\n",
        "        # Mapping for labels\n",
        "        self.label_map = {'Infarction': 0, 'Ischemia': 1, 'Normal': 2}\n",
        "\n",
        "        # Verify base path\n",
        "        print(f\"Checking base path: {base_path}\")\n",
        "        if not os.path.exists(base_path):\n",
        "            raise ValueError(f\"Base path does not exist: {base_path}\")\n",
        "\n",
        "        # Load data directly from folders\n",
        "        for class_name, paths in classes.items():\n",
        "            rest_path = os.path.join(base_path, paths['rest'])\n",
        "            stress_path = os.path.join(base_path, paths['stress'])\n",
        "\n",
        "            print(f\"Checking Rest path for {class_name}: {rest_path}\")\n",
        "            print(f\"Checking Stress path for {class_name}: {stress_path}\")\n",
        "\n",
        "            if not os.path.exists(rest_path) or not os.path.exists(stress_path):\n",
        "                print(f\"Error: One or both paths do not exist - Rest: {rest_path}, Stress: {stress_path}\")\n",
        "                continue\n",
        "\n",
        "            # Load rest images\n",
        "            rest_files = [f for f in os.listdir(rest_path) if f.lower().endswith(('.jpg', '.jpeg'))]\n",
        "            rest_patient_dict = {}\n",
        "            for rest_file in rest_files:\n",
        "                try:\n",
        "                    filename = os.path.basename(rest_file)\n",
        "                    patient_id = filename.split('_')[0].replace('patient', '')\n",
        "                    if patient_id.isdigit():\n",
        "                        rest_patient_dict.setdefault(patient_id, []).append(os.path.join(rest_path, rest_file))\n",
        "                    else:\n",
        "                        print(f\"Warning: Invalid patient ID in Rest: {filename}\")\n",
        "                except (IndexError, ValueError):\n",
        "                    print(f\"Warning: Skipping invalid filename format in Rest: {filename}\")\n",
        "\n",
        "            # Load stress images\n",
        "            stress_files = [f for f in os.listdir(stress_path) if f.lower().endswith(('.jpg', '.jpeg'))]\n",
        "            stress_patient_dict = {}\n",
        "            for stress_file in stress_files:\n",
        "                try:\n",
        "                    filename = os.path.basename(stress_file)\n",
        "                    patient_id = filename.split('_')[0].replace('patient', '')\n",
        "                    if patient_id.isdigit():\n",
        "                        stress_patient_dict.setdefault(patient_id, []).append(os.path.join(stress_path, stress_file))\n",
        "                    else:\n",
        "                        print(f\"Warning: Invalid patient ID in Stress: {filename}\")\n",
        "                except (IndexError, ValueError):\n",
        "                    print(f\"Warning: Skipping invalid filename format in Stress: {filename}\")\n",
        "\n",
        "            # Print individual image counts\n",
        "            print(f\"Class {class_name}: {len(rest_files)} Rest images, {len(stress_files)} Stress images\")\n",
        "\n",
        "            # Match pairs\n",
        "            total_pairs = 0\n",
        "            common_patients = set(rest_patient_dict.keys()) & set(stress_patient_dict.keys())\n",
        "            for patient_id in common_patients:\n",
        "                if rest_patient_dict[patient_id] and stress_patient_dict[patient_id]:\n",
        "                    rest_full_path = rest_patient_dict[patient_id][0]\n",
        "                    stress_full_path = stress_patient_dict[patient_id][0]\n",
        "                    self.data.append((rest_full_path, stress_full_path))\n",
        "                    self.labels.append(self.label_map[class_name])\n",
        "                    total_pairs += 1\n",
        "\n",
        "            print(f\"Class {class_name}: Loaded {total_pairs} pairs from {len(common_patients)} common patients\")\n",
        "\n",
        "        if not self.data:\n",
        "            raise ValueError(\"No valid image pairs found. Check file paths, naming conventions, or ensure matching patient IDs in Rest and Stress folders.\")\n",
        "\n",
        "        # Print total class distribution (pairs)\n",
        "        from collections import Counter\n",
        "        label_counts = Counter(self.labels)\n",
        "        print(\"Class distribution (pairs):\", label_counts)\n",
        "\n",
        "    def __len__(self):\n",
        "        return len(self.data)\n",
        "\n",
        "    def __getitem__(self, idx):\n",
        "        rest_path, stress_path = self.data[idx]\n",
        "        label = self.labels[idx]\n",
        "\n",
        "        rest_img = Image.open(rest_path).convert('RGB')\n",
        "        stress_img = Image.open(stress_path).convert('RGB')\n",
        "\n",
        "        if self.transform:\n",
        "            rest_img = self.transform(rest_img)\n",
        "            stress_img = self.transform(stress_img)\n",
        "\n",
        "        return rest_img, stress_img, label\n",
        "\n",
        "# Test the dataset loading\n",
        "try:\n",
        "    full_dataset = MPIDataset(base_path, classes, transform=None)\n",
        "    print(f\"Successfully loaded dataset with {len(full_dataset)} pairs\")\n",
        "except Exception as e:\n",
        "    print(f\"Error loading dataset: {str(e)}\")"
      ],
      "metadata": {
        "colab": {
          "base_uri": "https://localhost:8080/"
        },
        "id": "0_whoZ6kGFPC",
        "outputId": "8e931ad6-672c-4542-c8df-2823124e9ce6"
      },
      "execution_count": 7,
      "outputs": [
        {
          "output_type": "stream",
          "name": "stdout",
          "text": [
            "Checking base path: /content/drive/MyDrive/MPI data/newww_dataset\n",
            "Checking Rest path for Infarction: /content/drive/MyDrive/MPI data/newww_dataset/Infarction/rest\n",
            "Checking Stress path for Infarction: /content/drive/MyDrive/MPI data/newww_dataset/Infarction/stress\n",
            "Class Infarction: 390 Rest images, 390 Stress images\n",
            "Class Infarction: Loaded 390 pairs from 390 common patients\n",
            "Checking Rest path for Ischemia: /content/drive/MyDrive/MPI data/newww_dataset/Ischemia/rest\n",
            "Checking Stress path for Ischemia: /content/drive/MyDrive/MPI data/newww_dataset/Ischemia/stress\n",
            "Class Ischemia: 390 Rest images, 390 Stress images\n",
            "Class Ischemia: Loaded 390 pairs from 390 common patients\n",
            "Checking Rest path for Normal: /content/drive/MyDrive/MPI data/newww_dataset/Normal/rest\n",
            "Checking Stress path for Normal: /content/drive/MyDrive/MPI data/newww_dataset/Normal/stress\n",
            "Class Normal: 390 Rest images, 390 Stress images\n",
            "Class Normal: Loaded 390 pairs from 390 common patients\n",
            "Class distribution (pairs): Counter({0: 390, 1: 390, 2: 390})\n",
            "Successfully loaded dataset with 1170 pairs\n"
          ]
        }
      ]
    },
    {
      "cell_type": "code",
      "source": [
        "\n",
        "\n",
        "\n",
        "# Load datasets\n",
        "full_dataset = MPIDataset(base_path, classes, transform=train_transform)"
      ],
      "metadata": {
        "colab": {
          "base_uri": "https://localhost:8080/"
        },
        "id": "0w1KrybA3kl4",
        "outputId": "da58d4f3-5417-4602-9916-4194bb4bf7bf"
      },
      "execution_count": 8,
      "outputs": [
        {
          "output_type": "stream",
          "name": "stdout",
          "text": [
            "Checking base path: /content/drive/MyDrive/MPI data/newww_dataset\n",
            "Checking Rest path for Infarction: /content/drive/MyDrive/MPI data/newww_dataset/Infarction/rest\n",
            "Checking Stress path for Infarction: /content/drive/MyDrive/MPI data/newww_dataset/Infarction/stress\n",
            "Class Infarction: 390 Rest images, 390 Stress images\n",
            "Class Infarction: Loaded 390 pairs from 390 common patients\n",
            "Checking Rest path for Ischemia: /content/drive/MyDrive/MPI data/newww_dataset/Ischemia/rest\n",
            "Checking Stress path for Ischemia: /content/drive/MyDrive/MPI data/newww_dataset/Ischemia/stress\n",
            "Class Ischemia: 390 Rest images, 390 Stress images\n",
            "Class Ischemia: Loaded 390 pairs from 390 common patients\n",
            "Checking Rest path for Normal: /content/drive/MyDrive/MPI data/newww_dataset/Normal/rest\n",
            "Checking Stress path for Normal: /content/drive/MyDrive/MPI data/newww_dataset/Normal/stress\n",
            "Class Normal: 390 Rest images, 390 Stress images\n",
            "Class Normal: Loaded 390 pairs from 390 common patients\n",
            "Class distribution (pairs): Counter({0: 390, 1: 390, 2: 390})\n"
          ]
        }
      ]
    },
    {
      "source": [
        "from sklearn.model_selection import StratifiedShuffleSplit\n",
        "from collections import Counter\n",
        "\n",
        "# Stratified Split\n",
        "labels = np.array(full_dataset.labels)\n",
        "splitter = StratifiedShuffleSplit(n_splits=1, test_size=0.3, random_state=42)\n",
        "train_idx, val_test_idx = next(splitter.split(labels, labels))\n",
        "val_test_labels = labels[val_test_idx]\n",
        "splitter = StratifiedShuffleSplit(n_splits=1, test_size=0.5, random_state=42)\n",
        "val_idx, test_idx = next(splitter.split(val_test_labels, val_test_labels))\n",
        "\n",
        "train_dataset = torch.utils.data.Subset(full_dataset, train_idx)\n",
        "val_dataset = torch.utils.data.Subset(full_dataset, val_test_idx[val_idx])\n",
        "test_dataset = torch.utils.data.Subset(full_dataset, val_test_idx[test_idx])\n",
        "\n",
        "val_dataset.dataset.transform = val_transform\n",
        "test_dataset.dataset.transform = val_transform\n",
        "\n",
        "# Print class distribution\n",
        "label_counts = Counter(full_dataset.labels)\n",
        "print(\"Class distribution:\", label_counts)\n",
        "\n",
        "# Define the device here, before it is used\n",
        "device = torch.device(\"cuda\" if torch.cuda.is_available() else \"cpu\")\n",
        "\n",
        "# Add class weights to criterion\n",
        "total_samples = sum(label_counts.values())\n",
        "class_weights = torch.tensor([total_samples / (len(label_counts) * count) for count in label_counts.values()]).to(device)\n",
        "criterion = nn.CrossEntropyLoss(weight=class_weights)\n",
        "\n",
        "# Create data loaders\n",
        "train_loader = DataLoader(train_dataset, batch_size=32, shuffle=True, num_workers=2, pin_memory=True)\n",
        "val_loader = DataLoader(val_dataset, batch_size=32, shuffle=False, num_workers=2, pin_memory=True)\n",
        "test_loader = DataLoader(test_dataset, batch_size=32, shuffle=False, num_workers=2, pin_memory=True)"
      ],
      "cell_type": "code",
      "metadata": {
        "colab": {
          "base_uri": "https://localhost:8080/"
        },
        "id": "ifWsvMqc4jrk",
        "outputId": "9ed084bb-aa7a-48ac-f136-4659f9964987"
      },
      "execution_count": 9,
      "outputs": [
        {
          "output_type": "stream",
          "name": "stdout",
          "text": [
            "Class distribution: Counter({0: 390, 1: 390, 2: 390})\n"
          ]
        }
      ]
    },
    {
      "cell_type": "code",
      "source": [
        "# Define the ResNet18 model with shared weights\n",
        "class DualBranchResNet18(nn.Module):\n",
        "    def __init__(self, num_classes=3):\n",
        "        super(DualBranchResNet18, self).__init__()\n",
        "        # Load pre-trained ResNet18\n",
        "        self.base_model = models.resnet18(pretrained=True)\n",
        "\n",
        "        # Freeze base layers\n",
        "        for param in self.base_model.parameters():\n",
        "            param.requires_grad = False\n",
        "\n",
        "        # Remove the final fully connected layer\n",
        "        self.base_model.fc = nn.Identity()\n",
        "\n",
        "        # Define the head for combined features\n",
        "        self.head = nn.Sequential(\n",
        "            nn.Linear(512 * 2, 512),  # 512 from each branch\n",
        "            nn.ReLU(),\n",
        "            nn.Dropout(0.5),\n",
        "            nn.Linear(512, 256),\n",
        "            nn.ReLU(),\n",
        "            nn.Dropout(0.3),\n",
        "            nn.Linear(256, num_classes)\n",
        "        )\n",
        "\n",
        "    def forward(self, rest_input, stress_input):\n",
        "        # Extract features from both branches\n",
        "        rest_features = self.base_model(rest_input)\n",
        "        stress_features = self.base_model(stress_input)\n",
        "\n",
        "        # Concatenate features\n",
        "        combined = torch.cat((rest_features, stress_features), dim=1)\n",
        "\n",
        "        # Pass through the head\n",
        "        output = self.head(combined)\n",
        "        return output\n",
        "\n",
        "# Initialize model, loss, and optimizer\n",
        "device = torch.device(\"cuda\" if torch.cuda.is_available() else \"cpu\")\n",
        "model = DualBranchResNet18(num_classes=3).to(device)\n",
        "criterion = nn.CrossEntropyLoss()\n",
        "optimizer = optim.Adam(model.parameters(), lr=1e-5)\n"
      ],
      "metadata": {
        "colab": {
          "base_uri": "https://localhost:8080/"
        },
        "id": "zNmPvt9s4hZf",
        "outputId": "824547bf-6ebe-4874-ccc3-9cf506b253f0"
      },
      "execution_count": 10,
      "outputs": [
        {
          "output_type": "stream",
          "name": "stderr",
          "text": [
            "/usr/local/lib/python3.11/dist-packages/torchvision/models/_utils.py:208: UserWarning: The parameter 'pretrained' is deprecated since 0.13 and may be removed in the future, please use 'weights' instead.\n",
            "  warnings.warn(\n",
            "/usr/local/lib/python3.11/dist-packages/torchvision/models/_utils.py:223: UserWarning: Arguments other than a weight enum or `None` for 'weights' are deprecated since 0.13 and may be removed in the future. The current behavior is equivalent to passing `weights=ResNet18_Weights.IMAGENET1K_V1`. You can also use `weights=ResNet18_Weights.DEFAULT` to get the most up-to-date weights.\n",
            "  warnings.warn(msg)\n"
          ]
        }
      ]
    },
    {
      "cell_type": "code",
      "source": [
        "# Training loop\n",
        "num_epochs = 25\n",
        "train_losses, val_losses = [], []\n",
        "train_accuracies, val_accuracies = [], []\n",
        "\n",
        "for epoch in range(num_epochs):\n",
        "    # Training phase\n",
        "    model.train()\n",
        "    running_loss = 0.0\n",
        "    correct = 0\n",
        "    total = 0\n",
        "    for i, (rest_imgs, stress_imgs, labels) in enumerate(train_loader):\n",
        "        rest_imgs, stress_imgs, labels = rest_imgs.to(device), stress_imgs.to(device), labels.to(device)\n",
        "        optimizer.zero_grad()\n",
        "        outputs = model(rest_imgs, stress_imgs)\n",
        "        loss = criterion(outputs, labels)\n",
        "        loss.backward()\n",
        "        optimizer.step()\n",
        "        running_loss += loss.item()\n",
        "        _, predicted = torch.max(outputs, 1)\n",
        "        total += labels.size(0)\n",
        "        correct += (predicted == labels).sum().item()\n",
        "        if i % 10 == 0:  # Print every 10 batches\n",
        "            print(f\"Epoch {epoch+1}, Batch {i}, Loss: {loss.item():.4f}\")\n",
        "    train_loss = running_loss / len(train_loader)\n",
        "    train_acc = 100 * correct / total\n",
        "    train_losses.append(train_loss)\n",
        "    train_accuracies.append(train_acc)\n",
        "\n",
        "    # Validation phase\n",
        "    model.eval()\n",
        "    val_running_loss = 0.0\n",
        "    val_correct = 0\n",
        "    val_total = 0\n",
        "    with torch.no_grad():\n",
        "        for rest_imgs, stress_imgs, labels in val_loader:\n",
        "            rest_imgs, stress_imgs, labels = rest_imgs.to(device), stress_imgs.to(device), labels.to(device)\n",
        "            outputs = model(rest_imgs, stress_imgs)\n",
        "            loss = criterion(outputs, labels)\n",
        "            val_running_loss += loss.item()\n",
        "            _, predicted = torch.max(outputs, 1)\n",
        "            val_total += labels.size(0)\n",
        "            val_correct += (predicted == labels).sum().item()\n",
        "\n",
        "    val_loss = val_running_loss / len(val_loader)\n",
        "    val_acc = 100 * val_correct / val_total\n",
        "    val_losses.append(val_loss)\n",
        "    val_accuracies.append(val_acc)\n",
        "\n",
        "    # Print results for both train and validation\n",
        "    print(f\"Epoch [{epoch+1}/{num_epochs}], Train Loss: {train_loss:.4f}, Train Acc: {train_acc:.2f}%, Val Loss: {val_loss:.4f}, Val Acc: {val_acc:.2f}%\")"
      ],
      "metadata": {
        "colab": {
          "base_uri": "https://localhost:8080/"
        },
        "id": "9L67oF9O4oe2",
        "outputId": "76af8779-942f-440a-ecb8-48eaa93e1641"
      },
      "execution_count": 11,
      "outputs": [
        {
          "output_type": "stream",
          "name": "stdout",
          "text": [
            "Epoch 1, Batch 0, Loss: 1.1085\n",
            "Epoch 1, Batch 10, Loss: 1.0977\n",
            "Epoch 1, Batch 20, Loss: 1.0678\n",
            "Epoch [1/25], Train Loss: 1.0887, Train Acc: 38.83%, Val Loss: 1.0646, Val Acc: 54.86%\n",
            "Epoch 2, Batch 0, Loss: 1.0664\n",
            "Epoch 2, Batch 10, Loss: 1.0649\n",
            "Epoch 2, Batch 20, Loss: 1.0498\n",
            "Epoch [2/25], Train Loss: 1.0571, Train Acc: 46.52%, Val Loss: 1.0292, Val Acc: 75.43%\n",
            "Epoch 3, Batch 0, Loss: 1.0627\n",
            "Epoch 3, Batch 10, Loss: 1.0437\n",
            "Epoch 3, Batch 20, Loss: 1.0447\n",
            "Epoch [3/25], Train Loss: 1.0267, Train Acc: 55.07%, Val Loss: 0.9903, Val Acc: 81.71%\n",
            "Epoch 4, Batch 0, Loss: 0.9707\n",
            "Epoch 4, Batch 10, Loss: 1.0196\n",
            "Epoch 4, Batch 20, Loss: 0.9843\n",
            "Epoch [4/25], Train Loss: 0.9878, Train Acc: 64.96%, Val Loss: 0.9502, Val Acc: 84.00%\n",
            "Epoch 5, Batch 0, Loss: 0.9440\n",
            "Epoch 5, Batch 10, Loss: 0.9930\n",
            "Epoch 5, Batch 20, Loss: 0.9314\n",
            "Epoch [5/25], Train Loss: 0.9624, Train Acc: 66.54%, Val Loss: 0.9072, Val Acc: 85.71%\n",
            "Epoch 6, Batch 0, Loss: 0.9360\n",
            "Epoch 6, Batch 10, Loss: 0.8972\n",
            "Epoch 6, Batch 20, Loss: 0.8784\n",
            "Epoch [6/25], Train Loss: 0.9150, Train Acc: 72.65%, Val Loss: 0.8638, Val Acc: 88.00%\n",
            "Epoch 7, Batch 0, Loss: 0.8907\n",
            "Epoch 7, Batch 10, Loss: 0.8990\n",
            "Epoch 7, Batch 20, Loss: 0.8509\n",
            "Epoch [7/25], Train Loss: 0.8780, Train Acc: 76.07%, Val Loss: 0.8165, Val Acc: 88.00%\n",
            "Epoch 8, Batch 0, Loss: 0.8751\n",
            "Epoch 8, Batch 10, Loss: 0.8250\n",
            "Epoch 8, Batch 20, Loss: 0.7784\n",
            "Epoch [8/25], Train Loss: 0.8371, Train Acc: 80.22%, Val Loss: 0.7731, Val Acc: 87.43%\n",
            "Epoch 9, Batch 0, Loss: 0.7734\n",
            "Epoch 9, Batch 10, Loss: 0.8432\n",
            "Epoch 9, Batch 20, Loss: 0.8543\n",
            "Epoch [9/25], Train Loss: 0.7924, Train Acc: 79.73%, Val Loss: 0.7307, Val Acc: 88.00%\n",
            "Epoch 10, Batch 0, Loss: 0.6886\n",
            "Epoch 10, Batch 10, Loss: 0.8150\n",
            "Epoch 10, Batch 20, Loss: 0.7408\n",
            "Epoch [10/25], Train Loss: 0.7550, Train Acc: 81.07%, Val Loss: 0.6842, Val Acc: 89.14%\n",
            "Epoch 11, Batch 0, Loss: 0.6903\n",
            "Epoch 11, Batch 10, Loss: 0.6363\n",
            "Epoch 11, Batch 20, Loss: 0.8010\n",
            "Epoch [11/25], Train Loss: 0.7088, Train Acc: 82.91%, Val Loss: 0.6405, Val Acc: 89.71%\n",
            "Epoch 12, Batch 0, Loss: 0.6449\n",
            "Epoch 12, Batch 10, Loss: 0.8130\n",
            "Epoch 12, Batch 20, Loss: 0.5303\n",
            "Epoch [12/25], Train Loss: 0.6745, Train Acc: 82.91%, Val Loss: 0.5982, Val Acc: 89.14%\n",
            "Epoch 13, Batch 0, Loss: 0.7182\n",
            "Epoch 13, Batch 10, Loss: 0.6326\n",
            "Epoch 13, Batch 20, Loss: 0.6407\n",
            "Epoch [13/25], Train Loss: 0.6464, Train Acc: 83.88%, Val Loss: 0.5576, Val Acc: 90.29%\n",
            "Epoch 14, Batch 0, Loss: 0.6995\n",
            "Epoch 14, Batch 10, Loss: 0.5964\n",
            "Epoch 14, Batch 20, Loss: 0.5787\n",
            "Epoch [14/25], Train Loss: 0.6011, Train Acc: 85.23%, Val Loss: 0.5258, Val Acc: 90.86%\n",
            "Epoch 15, Batch 0, Loss: 0.5625\n",
            "Epoch 15, Batch 10, Loss: 0.6265\n",
            "Epoch 15, Batch 20, Loss: 0.5274\n",
            "Epoch [15/25], Train Loss: 0.5628, Train Acc: 86.69%, Val Loss: 0.4936, Val Acc: 91.43%\n",
            "Epoch 16, Batch 0, Loss: 0.6178\n",
            "Epoch 16, Batch 10, Loss: 0.5934\n",
            "Epoch 16, Batch 20, Loss: 0.4730\n",
            "Epoch [16/25], Train Loss: 0.5406, Train Acc: 86.81%, Val Loss: 0.4594, Val Acc: 94.29%\n",
            "Epoch 17, Batch 0, Loss: 0.5329\n",
            "Epoch 17, Batch 10, Loss: 0.5536\n",
            "Epoch 17, Batch 20, Loss: 0.5768\n",
            "Epoch [17/25], Train Loss: 0.5127, Train Acc: 87.18%, Val Loss: 0.4349, Val Acc: 92.57%\n",
            "Epoch 18, Batch 0, Loss: 0.4559\n",
            "Epoch 18, Batch 10, Loss: 0.5527\n",
            "Epoch 18, Batch 20, Loss: 0.4936\n",
            "Epoch [18/25], Train Loss: 0.4891, Train Acc: 88.52%, Val Loss: 0.4069, Val Acc: 94.86%\n",
            "Epoch 19, Batch 0, Loss: 0.4860\n",
            "Epoch 19, Batch 10, Loss: 0.4710\n",
            "Epoch 19, Batch 20, Loss: 0.4020\n",
            "Epoch [19/25], Train Loss: 0.4584, Train Acc: 88.40%, Val Loss: 0.3901, Val Acc: 92.57%\n",
            "Epoch 20, Batch 0, Loss: 0.4299\n",
            "Epoch 20, Batch 10, Loss: 0.3912\n",
            "Epoch 20, Batch 20, Loss: 0.3818\n",
            "Epoch [20/25], Train Loss: 0.4272, Train Acc: 90.96%, Val Loss: 0.3633, Val Acc: 93.14%\n",
            "Epoch 21, Batch 0, Loss: 0.4224\n",
            "Epoch 21, Batch 10, Loss: 0.3801\n",
            "Epoch 21, Batch 20, Loss: 0.3596\n",
            "Epoch [21/25], Train Loss: 0.4178, Train Acc: 90.23%, Val Loss: 0.3444, Val Acc: 95.43%\n",
            "Epoch 22, Batch 0, Loss: 0.3923\n",
            "Epoch 22, Batch 10, Loss: 0.3886\n",
            "Epoch 22, Batch 20, Loss: 0.4150\n",
            "Epoch [22/25], Train Loss: 0.3952, Train Acc: 91.45%, Val Loss: 0.3280, Val Acc: 93.71%\n",
            "Epoch 23, Batch 0, Loss: 0.4013\n",
            "Epoch 23, Batch 10, Loss: 0.4163\n",
            "Epoch 23, Batch 20, Loss: 0.3228\n",
            "Epoch [23/25], Train Loss: 0.3691, Train Acc: 92.06%, Val Loss: 0.3211, Val Acc: 92.57%\n",
            "Epoch 24, Batch 0, Loss: 0.3581\n",
            "Epoch 24, Batch 10, Loss: 0.4532\n",
            "Epoch 24, Batch 20, Loss: 0.3686\n",
            "Epoch [24/25], Train Loss: 0.3603, Train Acc: 92.43%, Val Loss: 0.2989, Val Acc: 93.71%\n",
            "Epoch 25, Batch 0, Loss: 0.2621\n",
            "Epoch 25, Batch 10, Loss: 0.3494\n",
            "Epoch 25, Batch 20, Loss: 0.4391\n",
            "Epoch [25/25], Train Loss: 0.3449, Train Acc: 91.70%, Val Loss: 0.2809, Val Acc: 95.43%\n"
          ]
        }
      ]
    },
    {
      "cell_type": "code",
      "source": [],
      "metadata": {
        "id": "_Q62mJCNE9vy"
      },
      "execution_count": null,
      "outputs": []
    },
    {
      "cell_type": "code",
      "source": [
        "# Plot training and validation metrics\n",
        "plt.figure(figsize=(12, 4))\n",
        "plt.subplot(1, 2, 1)\n",
        "plt.plot(train_losses, label='Train Loss')\n",
        "plt.plot(val_losses, label='Val Loss')\n",
        "plt.title('Loss over Epochs')\n",
        "plt.xlabel('Epoch')\n",
        "plt.ylabel('Loss')\n",
        "plt.legend()\n",
        "plt.grid(True)\n",
        "\n",
        "plt.subplot(1, 2, 2)\n",
        "plt.plot(train_accuracies, label='Train Accuracy')\n",
        "plt.plot(val_accuracies, label='Val Accuracy')\n",
        "plt.title('Accuracy over Epochs')\n",
        "plt.xlabel('Epoch')\n",
        "plt.ylabel('Accuracy (%)')\n",
        "plt.legend()\n",
        "plt.grid(True)\n",
        "plt.show()"
      ],
      "metadata": {
        "colab": {
          "base_uri": "https://localhost:8080/",
          "height": 410
        },
        "id": "MDhhN-LL4tpT",
        "outputId": "aa96dce1-9133-455e-9d48-6729a72fbb23"
      },
      "execution_count": 12,
      "outputs": [
        {
          "output_type": "display_data",
          "data": {
            "text/plain": [
              "<Figure size 1200x400 with 2 Axes>"
            ],
            "image/png": "[encoded data removed]"
          },
          "metadata": {}
        }
      ]
    },
    {
      "cell_type": "code",
      "source": [
        "# Ensure DataLoader is optimized\n",
        "test_loader = DataLoader(test_dataset, batch_size=32, shuffle=False, num_workers=2, pin_memory=True)\n",
        "\n",
        "# Evaluate on test set and compute accuracy\n",
        "model.eval()\n",
        "y_true, y_pred = [], []\n",
        "correct = 0\n",
        "total = 0\n",
        "\n",
        "with torch.no_grad():\n",
        "    for i, (rest_imgs, stress_imgs, labels) in enumerate(test_loader):\n",
        "        rest_imgs, stress_imgs, labels = rest_imgs.to(device), stress_imgs.to(device), labels.to(device)\n",
        "        outputs = model(rest_imgs, stress_imgs)\n",
        "        _, predicted = torch.max(outputs, 1)\n",
        "        y_true.extend(labels.cpu().numpy())\n",
        "        y_pred.extend(predicted.cpu().numpy())\n",
        "        total += labels.size(0)\n",
        "        correct += (predicted == labels).sum().item()\n",
        "        if i % 10 == 0:  # Print every 10 batches\n",
        "            print(f\"Processed batch {i}\")\n",
        "\n",
        "# Calculate and print test accuracy\n",
        "test_acc = 100 * correct / total\n",
        "print(f\"Test Accuracy: {test_acc:.2f}%\")"
      ],
      "metadata": {
        "colab": {
          "base_uri": "https://localhost:8080/"
        },
        "id": "7yBx8meS455P",
        "outputId": "90b66967-26fd-4682-9d93-0f5a7c103680"
      },
      "execution_count": 13,
      "outputs": [
        {
          "output_type": "stream",
          "name": "stdout",
          "text": [
            "Processed batch 0\n",
            "Test Accuracy: 92.61%\n"
          ]
        }
      ]
    },
    {
      "source": [
        "# Calculate metrics\n",
        "f1 = f1_score(y_true, y_pred, average='weighted')\n",
        "recall = recall_score(y_true, y_pred, average='weighted')\n",
        "precision = precision_score(y_true, y_pred, average='weighted')\n",
        "\n",
        "print(f\"F1 Score: {f1:.4f}\")\n",
        "print(f\"Recall Score: {recall:.4f}\")\n",
        "print(f\"Precision Score: {precision:.4f}\")\n",
        "\n",
        "# Confusion matrix\n",
        "from sklearn.metrics import confusion_matrix # Import confusion_matrix here\n",
        "cm = confusion_matrix(y_true, y_pred)\n",
        "plt.figure(figsize=(8, 6))\n",
        "sns.heatmap(cm, annot=True, fmt='d', cmap='Blues', xticklabels=['Infarction', 'Ischemia', 'Normal'], yticklabels=['Infarction', 'Ischemia', 'Normal'])\n",
        "plt.title('Confusion Matrix')\n",
        "plt.xlabel('Predicted')\n",
        "plt.ylabel('True')\n",
        "plt.show()"
      ],
      "cell_type": "code",
      "metadata": {
        "colab": {
          "base_uri": "https://localhost:8080/",
          "height": 618
        },
        "id": "h3IQAPmGEJLS",
        "outputId": "706e5672-8ebe-44a9-cdbb-0c1ff95c6403"
      },
      "execution_count": 14,
      "outputs": [
        {
          "output_type": "stream",
          "name": "stdout",
          "text": [
            "F1 Score: 0.9253\n",
            "Recall Score: 0.9261\n",
            "Precision Score: 0.9310\n"
          ]
        },
        {
          "output_type": "display_data",
          "data": {
            "text/plain": [
              "<Figure size 800x600 with 2 Axes>"
            ],
            "image/png": "[encoded data removed]"
          },
          "metadata": {}
        }
      ]
    },
    {
      "cell_type": "code",
      "source": [],
      "metadata": {
        "id": "JDVXTP0y45-d"
      },
      "execution_count": null,
      "outputs": []
    },
    {
      "cell_type": "code",
      "source": [],
      "metadata": {
        "id": "XlmW_T2R46Ap"
      },
      "execution_count": null,
      "outputs": []
    },
    {
      "cell_type": "code",
      "source": [],
      "metadata": {
        "id": "v-x9UpCw46EP"
      },
      "execution_count": null,
      "outputs": []
    }
  ],
  "metadata": {
    "colab": {
      "provenance": [],
      "gpuType": "T4"
    },
    "kernelspec": {
      "display_name": "Python 3",
      "name": "python3"
    },
    "language_info": {
      "name": "python"
    },
    "accelerator": "GPU"
  },
  "nbformat": 4,
  "nbformat_minor": 0
}