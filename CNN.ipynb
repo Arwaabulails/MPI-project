{
 "cells": [
  {
   "cell_type": "code",
   "execution_count": 1,
   "id": "b038401b",
   "metadata": {},
   "outputs": [],
   "source": [
    "import os\n",
    "import csv\n",
    "import numpy as np\n",
    "from tensorflow.keras.models import Model\n",
    "from tensorflow.keras.layers import Input, Conv2D, MaxPooling2D, GlobalAveragePooling2D, Dense, Concatenate\n",
    "from tensorflow.keras.preprocessing.image import load_img, img_to_array\n",
    "from sklearn.model_selection import train_test_split"
   ]
  },
  {
   "cell_type": "code",
   "execution_count": 32,
   "id": "ade40f99",
   "metadata": {},
   "outputs": [],
   "source": [
    "import tensorflow as tf\n",
    "tf.keras.backend.clear_session()"
   ]
  },
  {
   "cell_type": "code",
   "execution_count": 3,
   "id": "890aba91",
   "metadata": {},
   "outputs": [],
   "source": [
    "# define the paths to the dataset and the CSV file\n",
    "base_path = \"newww_dataset\"\n",
    "\n",
    "classes = {\n",
    "    \"Infarction\": {\"rest\": \"Infarction/rest\", \"stress\": \"Infarction/stress\"},\n",
    "    \"Ischemia\": {\"rest\": \"Ischemia/rest\", \"stress\": \"Ischemia/stress\"},\n",
    "    \"Normal\": {\"rest\": \"Normal/rest\", \"stress\": \"Normal/stress\"}\n",
    "}"
   ]
  },
  {
   "cell_type": "code",
   "execution_count": 4,
   "id": "68035774",
   "metadata": {},
   "outputs": [],
   "source": [
    "#define the id of the patients\n",
    "def get_patient_id(filename):\n",
    "    try:\n",
    "        return int(filename.split('_')[0].replace('patient', ''))\n",
    "    except (ValueError, IndexError):\n",
    "        return None"
   ]
  },
  {
   "cell_type": "code",
   "execution_count": 5,
   "id": "621c337d",
   "metadata": {},
   "outputs": [
    {
     "name": "stdout",
     "output_type": "stream",
     "text": [
      " CSV file Infarction_images.csv has been created successfully!\n",
      " CSV file Ischemia_images.csv has been created successfully!\n",
      " CSV file Normal_images.csv has been created successfully!\n"
     ]
    }
   ],
   "source": [
    "import os\n",
    "import csv\n",
    "for class_name, paths in classes.items():\n",
    "    csv_filename = f\"{class_name}_images.csv\"\n",
    "    with open(csv_filename, 'w', newline='', encoding='utf-8') as f:\n",
    "        writer = csv.writer(f)\n",
    "        writer.writerow([\"Patient_ID\", \"Image_Type\", \"File_Path\"])\n",
    "        \n",
    "        for image_type, folder in paths.items():\n",
    "            folder_path = os.path.join(base_path, folder)\n",
    "            if not os.path.exists(folder_path):\n",
    "                print(f\"Folder {folder_path} does not exist!\")\n",
    "                continue\n",
    "            \n",
    "            files = [f for f in os.listdir(folder_path) if f.lower().endswith(('.jpg', '.jpeg'))]\n",
    "            for file in files:\n",
    "                patient_id = get_patient_id(file)\n",
    "                if patient_id is not None:\n",
    "                    full_path = os.path.join(folder_path, file)\n",
    "                    writer.writerow([patient_id, image_type, full_path])\n",
    "    \n",
    "    print(f\" CSV file {csv_filename} has been created successfully!\")"
   ]
  },
  {
   "cell_type": "code",
   "execution_count": 6,
   "id": "8f2c0811",
   "metadata": {},
   "outputs": [],
   "source": [
    "# Load images and preprocess them\n",
    "def load_images(csv_file, target_size=(224, 224)):\n",
    "    data = []\n",
    "    labels = []\n",
    "    with open(csv_file, 'r', encoding='utf-8') as f:\n",
    "        reader = csv.reader(f)\n",
    "        next(reader)  # تخطي العنوان\n",
    "        for row in reader:\n",
    "            patient_id, image_type, file_path = row\n",
    "            img = load_img(file_path, target_size=target_size)\n",
    "            img_array = img_to_array(img) / 255.0\n",
    "            data.append((patient_id, image_type, img_array))\n",
    "            labels.append(class_name)\n",
    "    return data, labels"
   ]
  },
  {
   "cell_type": "code",
   "execution_count": 7,
   "id": "1d2c48f6",
   "metadata": {},
   "outputs": [],
   "source": [
    "def build_two_input_cnn(input_shape=(224, 224, 3)):\n",
    "    # REST branch\n",
    "    rest_input = Input(shape=input_shape, name='rest_input')\n",
    "    x1 = Conv2D(16, (3, 3), activation='relu')(rest_input)\n",
    "    x1 = MaxPooling2D((2, 2))(x1)\n",
    "    x1 = Conv2D(32, (3, 3), activation='relu')(x1)\n",
    "    x1 = MaxPooling2D((2, 2))(x1)\n",
    "    x1 = GlobalAveragePooling2D()(x1)\n",
    "    # STRESS branch\n",
    "    stress_input = Input(shape=input_shape, name='stress_input')\n",
    "    x2 = Conv2D(16, (3, 3), activation='relu')(stress_input)\n",
    "    x2 = MaxPooling2D((2, 2))(x2)\n",
    "    x2 = Conv2D(32, (3, 3), activation='relu')(x2)\n",
    "    x2 = MaxPooling2D((2, 2))(x2)\n",
    "    x2 = GlobalAveragePooling2D()(x2)\n",
    "    \n",
    "\n",
    "\t # Combine branches\n",
    "    \n",
    "    combined = Concatenate()([x1, x2])\n",
    "    x = Dense(64, activation='relu')(combined)\n",
    "    output = Dense(3, activation='softmax')(x)\n",
    "    \n",
    "    model = Model(inputs=[rest_input, stress_input], outputs=output)\n",
    "    model.compile(optimizer='adam', loss='categorical_crossentropy', metrics=['accuracy'])\n",
    "    return model"
   ]
  },
  {
   "cell_type": "code",
   "execution_count": 8,
   "id": "69d2a364",
   "metadata": {},
   "outputs": [],
   "source": [
    "data = []\n",
    "labels = []\n",
    "for class_name in classes:\n",
    "    csv_file = f\"{class_name}_images.csv\"\n",
    "    class_data, class_labels = load_images(csv_file)\n",
    "    data.extend(class_data)\n",
    "    labels.extend(class_labels)\n",
    "\n",
    "patient_data = {}\n",
    "for (pid, img_type, img_array), label in zip(data, labels):\n",
    "    if pid not in patient_data:\n",
    "        patient_data[pid] = {'rest': None, 'stress': None, 'label': label}\n",
    "    patient_data[pid][img_type] = img_array"
   ]
  },
  {
   "cell_type": "code",
   "execution_count": 9,
   "id": "200f0235",
   "metadata": {},
   "outputs": [],
   "source": [
    "rest_images = []\n",
    "stress_images = []\n",
    "y = []\n",
    "class_map = {'Infarction': 0, 'Ischemia': 1, 'Normal': 2}\n",
    "for pid, info in patient_data.items():\n",
    "    if info['rest'] is not None and info['stress'] is not None:\n",
    "        rest_images.append(info['rest'])\n",
    "        stress_images.append(info['stress'])\n",
    "        y.append(class_map[info['label']])\n",
    "\n",
    "rest_images = np.array(rest_images)\n",
    "stress_images = np.array(stress_images)\n",
    "y = np.eye(3)[y]  # One-hot encoding"
   ]
  },
  {
   "cell_type": "code",
   "execution_count": 10,
   "id": "154427fc",
   "metadata": {},
   "outputs": [],
   "source": [
    "# Split the data into training and testing sets\n",
    "X_rest_train, X_rest_test, X_stress_train, X_stress_test, y_train, y_test = train_test_split(\n",
    "    rest_images, stress_images, y, test_size=0.2, random_state=42\n",
    ")"
   ]
  },
  {
   "cell_type": "code",
   "execution_count": null,
   "id": "bd3a0a8b",
   "metadata": {},
   "outputs": [],
   "source": []
  },
  {
   "cell_type": "code",
   "execution_count": 23,
   "id": "f207c895",
   "metadata": {},
   "outputs": [
    {
     "name": "stdout",
     "output_type": "stream",
     "text": [
      "Epoch 1/15\n",
      "106/106 [==============================] - 6s 43ms/step - loss: 0.8600 - accuracy: 0.6033 - val_loss: 0.5215 - val_accuracy: 0.7553\n",
      "Epoch 2/15\n",
      "106/106 [==============================] - 4s 40ms/step - loss: 0.5586 - accuracy: 0.7162 - val_loss: 0.5334 - val_accuracy: 0.6383\n",
      "Epoch 3/15\n",
      "106/106 [==============================] - 4s 41ms/step - loss: 0.4915 - accuracy: 0.7613 - val_loss: 0.4454 - val_accuracy: 0.8085\n",
      "Epoch 4/15\n",
      "106/106 [==============================] - 4s 41ms/step - loss: 0.4617 - accuracy: 0.7803 - val_loss: 0.5207 - val_accuracy: 0.8191\n",
      "Epoch 5/15\n",
      "106/106 [==============================] - 4s 40ms/step - loss: 0.4807 - accuracy: 0.7850 - val_loss: 0.3991 - val_accuracy: 0.8191\n",
      "Epoch 6/15\n",
      "106/106 [==============================] - 4s 39ms/step - loss: 0.4421 - accuracy: 0.7981 - val_loss: 0.3956 - val_accuracy: 0.8298\n",
      "Epoch 7/15\n",
      "106/106 [==============================] - 4s 39ms/step - loss: 0.3950 - accuracy: 0.8361 - val_loss: 0.3996 - val_accuracy: 0.8085\n",
      "Epoch 8/15\n",
      "106/106 [==============================] - 4s 39ms/step - loss: 0.3677 - accuracy: 0.8444 - val_loss: 0.4323 - val_accuracy: 0.7766\n",
      "Epoch 9/15\n",
      "106/106 [==============================] - 4s 39ms/step - loss: 0.3375 - accuracy: 0.8646 - val_loss: 0.3492 - val_accuracy: 0.8617\n",
      "Epoch 10/15\n",
      "106/106 [==============================] - 4s 39ms/step - loss: 0.3141 - accuracy: 0.8694 - val_loss: 0.4257 - val_accuracy: 0.7553\n",
      "Epoch 11/15\n",
      "106/106 [==============================] - 4s 39ms/step - loss: 0.2878 - accuracy: 0.8919 - val_loss: 0.2833 - val_accuracy: 0.8936\n",
      "Epoch 12/15\n",
      "106/106 [==============================] - 4s 39ms/step - loss: 0.2581 - accuracy: 0.9145 - val_loss: 0.3113 - val_accuracy: 0.9043\n",
      "Epoch 13/15\n",
      "106/106 [==============================] - 4s 39ms/step - loss: 0.2578 - accuracy: 0.9026 - val_loss: 0.2926 - val_accuracy: 0.8511\n",
      "Epoch 14/15\n",
      "106/106 [==============================] - 4s 39ms/step - loss: 0.2656 - accuracy: 0.9062 - val_loss: 0.2320 - val_accuracy: 0.9149\n",
      "Epoch 15/15\n",
      "106/106 [==============================] - 4s 39ms/step - loss: 0.2028 - accuracy: 0.9252 - val_loss: 0.2355 - val_accuracy: 0.9149\n"
     ]
    },
    {
     "data": {
      "text/plain": [
       "<keras.callbacks.History at 0x235354965e0>"
      ]
     },
     "execution_count": 23,
     "metadata": {},
     "output_type": "execute_result"
    }
   ],
   "source": [
    "# Build and train the model\n",
    "model = build_two_input_cnn()\n",
    "model.fit([X_rest_train, X_stress_train], y_train, validation_split=0.1, epochs=15, batch_size=8)"
   ]
  },
  {
   "cell_type": "code",
   "execution_count": 24,
   "id": "59e45a03",
   "metadata": {},
   "outputs": [
    {
     "name": "stdout",
     "output_type": "stream",
     "text": [
      "59/59 [==============================] - 1s 9ms/step - loss: 0.1696 - accuracy: 0.9231\n",
      "TEST ACC: 0.92\n"
     ]
    }
   ],
   "source": [
    "loss, accuracy = model.evaluate([X_rest_test, X_stress_test], y_test,batch_size=4)\n",
    "print(f\"TEST ACC: {accuracy:.2f}\")"
   ]
  },
  {
   "cell_type": "code",
   "execution_count": 33,
   "id": "96b14522",
   "metadata": {},
   "outputs": [
    {
     "name": "stdout",
     "output_type": "stream",
     "text": [
      "59/59 [==============================] - 1s 8ms/step\n",
      "✅ Confusion matrix saved as 'confusion_matrix.png'\n"
     ]
    },
    {
     "data": {
      "image/png": "[encoded data removed]",
      "text/plain": [
       "<Figure size 800x600 with 2 Axes>"
      ]
     },
     "metadata": {},
     "output_type": "display_data"
    }
   ],
   "source": [
    "#drow the confusion matrix\n",
    "from sklearn.metrics import confusion_matrix\n",
    "import numpy as np\n",
    "import seaborn as sns\n",
    "import matplotlib.pyplot as plt\n",
    "\n",
    "# Predicting using the model\n",
    "y_pred = model.predict([X_rest_test, X_stress_test], batch_size=4)\n",
    "y_pred_classes = np.argmax(y_pred, axis=1)\n",
    "y_test_classes = np.argmax(y_test, axis=1)\n",
    "\n",
    "# Create the confusion matrix\n",
    "cm = confusion_matrix(y_test_classes, y_pred_classes)\n",
    "\n",
    "# Plot the confusion matrix\n",
    "plt.figure(figsize=(8, 6))\n",
    "sns.heatmap(cm, annot=True, fmt='d', cmap='Blues',\n",
    "            xticklabels=['Infarction', 'Ischemia', 'Normal'],\n",
    "            yticklabels=['Infarction', 'Ischemia', 'Normal'])\n",
    "plt.title('Confusion Matrix')\n",
    "plt.xlabel('Predicted')\n",
    "plt.ylabel('True')\n",
    "plt.savefig('confusion_matrix.png')\n",
    "print(\"✅ Confusion matrix saved as 'confusion_matrix.png'\")\n",
    "\n"
   ]
  }
 ],
 "metadata": {
  "kernelspec": {
   "display_name": "Python (tensor_env)",
   "language": "python",
   "name": "tensor_env"
  },
  "language_info": {
   "codemirror_mode": {
    "name": "ipython",
    "version": 3
   },
   "file_extension": ".py",
   "mimetype": "text/x-python",
   "name": "python",
   "nbconvert_exporter": "python",
   "pygments_lexer": "ipython3",
   "version": "3.8.20"
  }
 },
 "nbformat": 4,
 "nbformat_minor": 5
}
