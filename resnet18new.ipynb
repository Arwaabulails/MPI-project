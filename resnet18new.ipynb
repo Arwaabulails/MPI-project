{
  "cells": [
    {
      "cell_type": "code",
      "source": [
        "import os\n",
        "import torch\n",
        "import torch.nn as nn\n",
        "import torch.optim as optim\n",
        "from torch.utils.data import Dataset, DataLoader\n",
        "from torchvision import models, transforms, datasets\n",
        "from PIL import Image\n",
        "import numpy as np\n",
        "from sklearn.metrics import f1_score, recall_score, precision_score\n",
        "import matplotlib.pyplot as plt\n",
        "import seaborn as sns\n",
        "from google.colab import drive\n",
        "\n",
        "# Mount Google Drive\n",
        "drive.mount('/content/drive')"
      ],
      "metadata": {
        "colab": {
          "base_uri": "https://localhost:8080/"
        },
        "id": "YyJT6HLz3ceC",
        "outputId": "11ad1dff-ff2b-447a-fc87-74a710bf2af0"
      },
      "execution_count": 1,
      "outputs": [
        {
          "output_type": "stream",
          "name": "stdout",
          "text": [
            "Drive already mounted at /content/drive; to attempt to forcibly remount, call drive.mount(\"/content/drive\", force_remount=True).\n"
          ]
        }
      ]
    },
    {
      "cell_type": "code",
      "source": [
        "# Define paths\n",
        "base_path = '/content/drive/MyDrive/MPI data/newww_dataset'\n",
        "\n",
        "classes = {\n",
        "    \"Infarction\": {\"rest\": \"Infarction/rest\", \"stress\": \"Infarction/stress\"},\n",
        "    \"Ischemia\": {\"rest\": \"Ischemia/rest\", \"stress\": \"Ischemia/stress\"},\n",
        "    \"Normal\": {\"rest\": \"Normal/rest\", \"stress\": \"Normal/stress\"}\n",
        "}\n"
      ],
      "metadata": {
        "id": "sPitIXZL3kZF"
      },
      "execution_count": 2,
      "outputs": []
    },
    {
      "cell_type": "code",
      "source": [
        "# Define transforms\n",
        "train_transform = transforms.Compose([\n",
        "    transforms.Resize((224, 224)),\n",
        "    transforms.RandomHorizontalFlip(),\n",
        "    transforms.RandomRotation(10),\n",
        "    transforms.ToTensor(),\n",
        "    transforms.Normalize(mean=[0.485, 0.456, 0.406], std=[0.229, 0.224, 0.225])\n",
        "])\n",
        "\n",
        "val_transform = transforms.Compose([\n",
        "    transforms.Resize((224, 224)),\n",
        "    transforms.ToTensor(),\n",
        "    transforms.Normalize(mean=[0.485, 0.456, 0.406], std=[0.229, 0.224, 0.225])\n",
        "])"
      ],
      "metadata": {
        "id": "fY40JmdR3kiR"
      },
      "execution_count": 3,
      "outputs": []
    },
    {
      "cell_type": "code",
      "source": [
        "class MPIDataset(Dataset):\n",
        "    def __init__(self, base_path, classes, transform=None):\n",
        "        self.base_path = base_path\n",
        "        self.transform = transform\n",
        "        self.classes = classes\n",
        "        self.data = []\n",
        "        self.labels = []\n",
        "\n",
        "        # Mapping for labels\n",
        "        self.label_map = {'Infarction': 0, 'Ischemia': 1, 'Normal': 2}\n",
        "\n",
        "        # Verify base path\n",
        "        print(f\"Checking base path: {base_path}\")\n",
        "        if not os.path.exists(base_path):\n",
        "            raise ValueError(f\"Base path does not exist: {base_path}\")\n",
        "\n",
        "        # Load data directly from folders\n",
        "        for class_name, paths in classes.items():\n",
        "            rest_path = os.path.join(base_path, paths['rest'])\n",
        "            stress_path = os.path.join(base_path, paths['stress'])\n",
        "\n",
        "            print(f\"Checking Rest path for {class_name}: {rest_path}\")\n",
        "            print(f\"Checking Stress path for {class_name}: {stress_path}\")\n",
        "\n",
        "            if not os.path.exists(rest_path) or not os.path.exists(stress_path):\n",
        "                print(f\"Error: One or both paths do not exist - Rest: {rest_path}, Stress: {stress_path}\")\n",
        "                continue\n",
        "\n",
        "            # Load rest images\n",
        "            rest_files = [f for f in os.listdir(rest_path) if f.lower().endswith(('.jpg', '.jpeg'))]\n",
        "            rest_patient_dict = {}\n",
        "            for rest_file in rest_files:\n",
        "                try:\n",
        "                    filename = os.path.basename(rest_file)\n",
        "                    patient_id = filename.split('_')[0].replace('patient', '')\n",
        "                    if patient_id.isdigit():\n",
        "                        rest_patient_dict.setdefault(patient_id, []).append(os.path.join(rest_path, rest_file))\n",
        "                    else:\n",
        "                        print(f\"Warning: Invalid patient ID in Rest: {filename}\")\n",
        "                except (IndexError, ValueError):\n",
        "                    print(f\"Warning: Skipping invalid filename format in Rest: {filename}\")\n",
        "\n",
        "            # Load stress images\n",
        "            stress_files = [f for f in os.listdir(stress_path) if f.lower().endswith(('.jpg', '.jpeg'))]\n",
        "            stress_patient_dict = {}\n",
        "            for stress_file in stress_files:\n",
        "                try:\n",
        "                    filename = os.path.basename(stress_file)\n",
        "                    patient_id = filename.split('_')[0].replace('patient', '')\n",
        "                    if patient_id.isdigit():\n",
        "                        stress_patient_dict.setdefault(patient_id, []).append(os.path.join(stress_path, stress_file))\n",
        "                    else:\n",
        "                        print(f\"Warning: Invalid patient ID in Stress: {filename}\")\n",
        "                except (IndexError, ValueError):\n",
        "                    print(f\"Warning: Skipping invalid filename format in Stress: {filename}\")\n",
        "\n",
        "            # Print individual image counts\n",
        "            print(f\"Class {class_name}: {len(rest_files)} Rest images, {len(stress_files)} Stress images\")\n",
        "\n",
        "            # Match pairs\n",
        "            total_pairs = 0\n",
        "            common_patients = set(rest_patient_dict.keys()) & set(stress_patient_dict.keys())\n",
        "            for patient_id in common_patients:\n",
        "                if rest_patient_dict[patient_id] and stress_patient_dict[patient_id]:\n",
        "                    rest_full_path = rest_patient_dict[patient_id][0]\n",
        "                    stress_full_path = stress_patient_dict[patient_id][0]\n",
        "                    self.data.append((rest_full_path, stress_full_path))\n",
        "                    self.labels.append(self.label_map[class_name])\n",
        "                    total_pairs += 1\n",
        "\n",
        "            print(f\"Class {class_name}: Loaded {total_pairs} pairs from {len(common_patients)} common patients\")\n",
        "\n",
        "        if not self.data:\n",
        "            raise ValueError(\"No valid image pairs found. Check file paths, naming conventions, or ensure matching patient IDs in Rest and Stress folders.\")\n",
        "\n",
        "        # Print total class distribution (pairs)\n",
        "        from collections import Counter\n",
        "        label_counts = Counter(self.labels)\n",
        "        print(\"Class distribution (pairs):\", label_counts)\n",
        "\n",
        "    def __len__(self):\n",
        "        return len(self.data)\n",
        "\n",
        "    def __getitem__(self, idx):\n",
        "        rest_path, stress_path = self.data[idx]\n",
        "        label = self.labels[idx]\n",
        "\n",
        "        rest_img = Image.open(rest_path).convert('RGB')\n",
        "        stress_img = Image.open(stress_path).convert('RGB')\n",
        "\n",
        "        if self.transform:\n",
        "            rest_img = self.transform(rest_img)\n",
        "            stress_img = self.transform(stress_img)\n",
        "\n",
        "        return rest_img, stress_img, label\n",
        "\n",
        "# Test the dataset loading\n",
        "try:\n",
        "    full_dataset = MPIDataset(base_path, classes, transform=None)\n",
        "    print(f\"Successfully loaded dataset with {len(full_dataset)} pairs\")\n",
        "except Exception as e:\n",
        "    print(f\"Error loading dataset: {str(e)}\")"
      ],
      "metadata": {
        "colab": {
          "base_uri": "https://localhost:8080/"
        },
        "id": "0_whoZ6kGFPC",
        "outputId": "581086f5-83cb-43a8-fce0-66765a85b54c"
      },
      "execution_count": 4,
      "outputs": [
        {
          "output_type": "stream",
          "name": "stdout",
          "text": [
            "Checking base path: /content/drive/MyDrive/MPI data/newww_dataset\n",
            "Checking Rest path for Infarction: /content/drive/MyDrive/MPI data/newww_dataset/Infarction/rest\n",
            "Checking Stress path for Infarction: /content/drive/MyDrive/MPI data/newww_dataset/Infarction/stress\n",
            "Class Infarction: 390 Rest images, 390 Stress images\n",
            "Class Infarction: Loaded 390 pairs from 390 common patients\n",
            "Checking Rest path for Ischemia: /content/drive/MyDrive/MPI data/newww_dataset/Ischemia/rest\n",
            "Checking Stress path for Ischemia: /content/drive/MyDrive/MPI data/newww_dataset/Ischemia/stress\n",
            "Class Ischemia: 390 Rest images, 390 Stress images\n",
            "Class Ischemia: Loaded 390 pairs from 390 common patients\n",
            "Checking Rest path for Normal: /content/drive/MyDrive/MPI data/newww_dataset/Normal/rest\n",
            "Checking Stress path for Normal: /content/drive/MyDrive/MPI data/newww_dataset/Normal/stress\n",
            "Class Normal: 390 Rest images, 390 Stress images\n",
            "Class Normal: Loaded 390 pairs from 390 common patients\n",
            "Class distribution (pairs): Counter({0: 390, 1: 390, 2: 390})\n",
            "Successfully loaded dataset with 1170 pairs\n"
          ]
        }
      ]
    },
    {
      "cell_type": "code",
      "source": [
        "\n",
        "\n",
        "\n",
        "# Load datasets\n",
        "full_dataset = MPIDataset(base_path, classes, transform=train_transform)"
      ],
      "metadata": {
        "colab": {
          "base_uri": "https://localhost:8080/"
        },
        "id": "0w1KrybA3kl4",
        "outputId": "7427dc58-4174-454b-ac82-3ca323bc95f1"
      },
      "execution_count": 5,
      "outputs": [
        {
          "output_type": "stream",
          "name": "stdout",
          "text": [
            "Checking base path: /content/drive/MyDrive/MPI data/newww_dataset\n",
            "Checking Rest path for Infarction: /content/drive/MyDrive/MPI data/newww_dataset/Infarction/rest\n",
            "Checking Stress path for Infarction: /content/drive/MyDrive/MPI data/newww_dataset/Infarction/stress\n",
            "Class Infarction: 390 Rest images, 390 Stress images\n",
            "Class Infarction: Loaded 390 pairs from 390 common patients\n",
            "Checking Rest path for Ischemia: /content/drive/MyDrive/MPI data/newww_dataset/Ischemia/rest\n",
            "Checking Stress path for Ischemia: /content/drive/MyDrive/MPI data/newww_dataset/Ischemia/stress\n",
            "Class Ischemia: 390 Rest images, 390 Stress images\n",
            "Class Ischemia: Loaded 390 pairs from 390 common patients\n",
            "Checking Rest path for Normal: /content/drive/MyDrive/MPI data/newww_dataset/Normal/rest\n",
            "Checking Stress path for Normal: /content/drive/MyDrive/MPI data/newww_dataset/Normal/stress\n",
            "Class Normal: 390 Rest images, 390 Stress images\n",
            "Class Normal: Loaded 390 pairs from 390 common patients\n",
            "Class distribution (pairs): Counter({0: 390, 1: 390, 2: 390})\n"
          ]
        }
      ]
    },
    {
      "source": [
        "from sklearn.model_selection import StratifiedShuffleSplit\n",
        "from collections import Counter\n",
        "\n",
        "# Stratified Split\n",
        "labels = np.array(full_dataset.labels)\n",
        "splitter = StratifiedShuffleSplit(n_splits=1, test_size=0.3, random_state=42)\n",
        "train_idx, val_test_idx = next(splitter.split(labels, labels))\n",
        "val_test_labels = labels[val_test_idx]\n",
        "splitter = StratifiedShuffleSplit(n_splits=1, test_size=0.5, random_state=42)\n",
        "val_idx, test_idx = next(splitter.split(val_test_labels, val_test_labels))\n",
        "\n",
        "train_dataset = torch.utils.data.Subset(full_dataset, train_idx)\n",
        "val_dataset = torch.utils.data.Subset(full_dataset, val_test_idx[val_idx])\n",
        "test_dataset = torch.utils.data.Subset(full_dataset, val_test_idx[test_idx])\n",
        "\n",
        "val_dataset.dataset.transform = val_transform\n",
        "test_dataset.dataset.transform = val_transform\n",
        "\n",
        "# Print class distribution\n",
        "label_counts = Counter(full_dataset.labels)\n",
        "print(\"Class distribution:\", label_counts)\n",
        "\n",
        "# Define the device here, before it is used\n",
        "device = torch.device(\"cuda\" if torch.cuda.is_available() else \"cpu\")\n",
        "\n",
        "# Add class weights to criterion\n",
        "total_samples = sum(label_counts.values())\n",
        "class_weights = torch.tensor([total_samples / (len(label_counts) * count) for count in label_counts.values()]).to(device)\n",
        "criterion = nn.CrossEntropyLoss(weight=class_weights)\n",
        "\n",
        "# Create data loaders\n",
        "train_loader = DataLoader(train_dataset, batch_size=32, shuffle=True, num_workers=2, pin_memory=True)\n",
        "val_loader = DataLoader(val_dataset, batch_size=32, shuffle=False, num_workers=2, pin_memory=True)\n",
        "test_loader = DataLoader(test_dataset, batch_size=32, shuffle=False, num_workers=2, pin_memory=True)"
      ],
      "cell_type": "code",
      "metadata": {
        "colab": {
          "base_uri": "https://localhost:8080/"
        },
        "id": "ifWsvMqc4jrk",
        "outputId": "72efb4ba-511b-4961-d6eb-3559b338ebae"
      },
      "execution_count": 6,
      "outputs": [
        {
          "output_type": "stream",
          "name": "stdout",
          "text": [
            "Class distribution: Counter({0: 390, 1: 390, 2: 390})\n"
          ]
        }
      ]
    },
    {
      "cell_type": "code",
      "source": [
        "# Define the ResNet18 model with shared weights\n",
        "class DualBranchResNet18(nn.Module):\n",
        "    def __init__(self, num_classes=3):\n",
        "        super(DualBranchResNet18, self).__init__()\n",
        "        # Load pre-trained ResNet18\n",
        "        self.base_model = models.resnet18(pretrained=True)\n",
        "\n",
        "        # Freeze base layers\n",
        "        for param in self.base_model.parameters():\n",
        "            param.requires_grad = False\n",
        "\n",
        "        # Remove the final fully connected layer\n",
        "        self.base_model.fc = nn.Identity()\n",
        "\n",
        "        # Define the head for combined features\n",
        "        self.head = nn.Sequential(\n",
        "            nn.Linear(512 * 2, 512),  # 512 from each branch\n",
        "            nn.ReLU(),\n",
        "            nn.Dropout(0.5),\n",
        "            nn.Linear(512, 256),\n",
        "            nn.ReLU(),\n",
        "            nn.Dropout(0.3),\n",
        "            nn.Linear(256, num_classes)\n",
        "        )\n",
        "\n",
        "    def forward(self, rest_input, stress_input):\n",
        "        # Extract features from both branches\n",
        "        rest_features = self.base_model(rest_input)\n",
        "        stress_features = self.base_model(stress_input)\n",
        "\n",
        "        # Concatenate features\n",
        "        combined = torch.cat((rest_features, stress_features), dim=1)\n",
        "\n",
        "        # Pass through the head\n",
        "        output = self.head(combined)\n",
        "        return output\n",
        "\n",
        "# Initialize model, loss, and optimizer\n",
        "device = torch.device(\"cuda\" if torch.cuda.is_available() else \"cpu\")\n",
        "model = DualBranchResNet18(num_classes=3).to(device)\n",
        "criterion = nn.CrossEntropyLoss()\n",
        "optimizer = optim.Adam(model.parameters(), lr=1e-5)\n"
      ],
      "metadata": {
        "colab": {
          "base_uri": "https://localhost:8080/"
        },
        "id": "zNmPvt9s4hZf",
        "outputId": "e7c0366b-97aa-4b91-f795-4de0a3d265c1"
      },
      "execution_count": 7,
      "outputs": [
        {
          "output_type": "stream",
          "name": "stderr",
          "text": [
            "/usr/local/lib/python3.11/dist-packages/torchvision/models/_utils.py:208: UserWarning: The parameter 'pretrained' is deprecated since 0.13 and may be removed in the future, please use 'weights' instead.\n",
            "  warnings.warn(\n",
            "/usr/local/lib/python3.11/dist-packages/torchvision/models/_utils.py:223: UserWarning: Arguments other than a weight enum or `None` for 'weights' are deprecated since 0.13 and may be removed in the future. The current behavior is equivalent to passing `weights=ResNet18_Weights.IMAGENET1K_V1`. You can also use `weights=ResNet18_Weights.DEFAULT` to get the most up-to-date weights.\n",
            "  warnings.warn(msg)\n"
          ]
        }
      ]
    },
    {
      "cell_type": "code",
      "source": [
        "# Training loop\n",
        "num_epochs = 30\n",
        "train_losses, val_losses = [], []\n",
        "train_accuracies, val_accuracies = [], []\n",
        "\n",
        "for epoch in range(num_epochs):\n",
        "    # Training phase\n",
        "    model.train()\n",
        "    running_loss = 0.0\n",
        "    correct = 0\n",
        "    total = 0\n",
        "    for i, (rest_imgs, stress_imgs, labels) in enumerate(train_loader):\n",
        "        rest_imgs, stress_imgs, labels = rest_imgs.to(device), stress_imgs.to(device), labels.to(device)\n",
        "        optimizer.zero_grad()\n",
        "        outputs = model(rest_imgs, stress_imgs)\n",
        "        loss = criterion(outputs, labels)\n",
        "        loss.backward()\n",
        "        optimizer.step()\n",
        "        running_loss += loss.item()\n",
        "        _, predicted = torch.max(outputs, 1)\n",
        "        total += labels.size(0)\n",
        "        correct += (predicted == labels).sum().item()\n",
        "        if i % 10 == 0:  # Print every 10 batches\n",
        "            print(f\"Epoch {epoch+1}, Batch {i}, Loss: {loss.item():.4f}\")\n",
        "    train_loss = running_loss / len(train_loader)\n",
        "    train_acc = 100 * correct / total\n",
        "    train_losses.append(train_loss)\n",
        "    train_accuracies.append(train_acc)\n",
        "\n",
        "    # Validation phase\n",
        "    model.eval()\n",
        "    val_running_loss = 0.0\n",
        "    val_correct = 0\n",
        "    val_total = 0\n",
        "    with torch.no_grad():\n",
        "        for rest_imgs, stress_imgs, labels in val_loader:\n",
        "            rest_imgs, stress_imgs, labels = rest_imgs.to(device), stress_imgs.to(device), labels.to(device)\n",
        "            outputs = model(rest_imgs, stress_imgs)\n",
        "            loss = criterion(outputs, labels)\n",
        "            val_running_loss += loss.item()\n",
        "            _, predicted = torch.max(outputs, 1)\n",
        "            val_total += labels.size(0)\n",
        "            val_correct += (predicted == labels).sum().item()\n",
        "\n",
        "    val_loss = val_running_loss / len(val_loader)\n",
        "    val_acc = 100 * val_correct / val_total\n",
        "    val_losses.append(val_loss)\n",
        "    val_accuracies.append(val_acc)\n",
        "\n",
        "    # Print results for both train and validation\n",
        "    print(f\"Epoch [{epoch+1}/{num_epochs}], Train Loss: {train_loss:.4f}, Train Acc: {train_acc:.2f}%, Val Loss: {val_loss:.4f}, Val Acc: {val_acc:.2f}%\")"
      ],
      "metadata": {
        "colab": {
          "base_uri": "https://localhost:8080/"
        },
        "id": "9L67oF9O4oe2",
        "outputId": "76fd774e-7d5c-47ce-c2b1-1a7b42b5d21e"
      },
      "execution_count": 8,
      "outputs": [
        {
          "output_type": "stream",
          "name": "stdout",
          "text": [
            "Epoch 1, Batch 0, Loss: 1.0862\n",
            "Epoch 1, Batch 10, Loss: 1.0540\n",
            "Epoch 1, Batch 20, Loss: 1.1293\n",
            "Epoch [1/30], Train Loss: 1.0968, Train Acc: 37.61%, Val Loss: 1.0765, Val Acc: 50.29%\n",
            "Epoch 2, Batch 0, Loss: 1.0512\n",
            "Epoch 2, Batch 10, Loss: 1.0702\n",
            "Epoch 2, Batch 20, Loss: 1.0135\n",
            "Epoch [2/30], Train Loss: 1.0644, Train Acc: 43.71%, Val Loss: 1.0401, Val Acc: 62.29%\n",
            "Epoch 3, Batch 0, Loss: 0.9942\n",
            "Epoch 3, Batch 10, Loss: 1.0384\n",
            "Epoch 3, Batch 20, Loss: 1.0463\n",
            "Epoch [3/30], Train Loss: 1.0232, Train Acc: 57.02%, Val Loss: 1.0043, Val Acc: 72.57%\n",
            "Epoch 4, Batch 0, Loss: 1.0179\n",
            "Epoch 4, Batch 10, Loss: 0.9758\n",
            "Epoch 4, Batch 20, Loss: 0.9890\n",
            "Epoch [4/30], Train Loss: 1.0008, Train Acc: 63.74%, Val Loss: 0.9649, Val Acc: 78.29%\n",
            "Epoch 5, Batch 0, Loss: 0.9921\n",
            "Epoch 5, Batch 10, Loss: 0.9888\n",
            "Epoch 5, Batch 20, Loss: 0.9953\n",
            "Epoch [5/30], Train Loss: 0.9693, Train Acc: 69.23%, Val Loss: 0.9308, Val Acc: 78.29%\n",
            "Epoch 6, Batch 0, Loss: 0.9145\n",
            "Epoch 6, Batch 10, Loss: 0.9643\n",
            "Epoch 6, Batch 20, Loss: 0.9311\n",
            "Epoch [6/30], Train Loss: 0.9271, Train Acc: 71.67%, Val Loss: 0.8853, Val Acc: 82.86%\n",
            "Epoch 7, Batch 0, Loss: 0.9463\n",
            "Epoch 7, Batch 10, Loss: 0.9203\n",
            "Epoch 7, Batch 20, Loss: 0.8746\n",
            "Epoch [7/30], Train Loss: 0.8900, Train Acc: 75.70%, Val Loss: 0.8405, Val Acc: 81.71%\n",
            "Epoch 8, Batch 0, Loss: 0.8552\n",
            "Epoch 8, Batch 10, Loss: 0.8265\n",
            "Epoch 8, Batch 20, Loss: 0.9263\n",
            "Epoch [8/30], Train Loss: 0.8552, Train Acc: 74.24%, Val Loss: 0.7956, Val Acc: 83.43%\n",
            "Epoch 9, Batch 0, Loss: 0.7727\n",
            "Epoch 9, Batch 10, Loss: 0.8066\n",
            "Epoch 9, Batch 20, Loss: 0.7978\n",
            "Epoch [9/30], Train Loss: 0.8021, Train Acc: 80.10%, Val Loss: 0.7522, Val Acc: 84.57%\n",
            "Epoch 10, Batch 0, Loss: 0.8250\n",
            "Epoch 10, Batch 10, Loss: 0.7789\n",
            "Epoch 10, Batch 20, Loss: 0.7947\n",
            "Epoch [10/30], Train Loss: 0.7624, Train Acc: 81.81%, Val Loss: 0.7124, Val Acc: 85.71%\n",
            "Epoch 11, Batch 0, Loss: 0.7968\n",
            "Epoch 11, Batch 10, Loss: 0.7265\n",
            "Epoch 11, Batch 20, Loss: 0.6517\n",
            "Epoch [11/30], Train Loss: 0.7152, Train Acc: 84.37%, Val Loss: 0.6644, Val Acc: 86.29%\n",
            "Epoch 12, Batch 0, Loss: 0.6627\n",
            "Epoch 12, Batch 10, Loss: 0.7338\n",
            "Epoch 12, Batch 20, Loss: 0.6792\n",
            "Epoch [12/30], Train Loss: 0.6824, Train Acc: 84.98%, Val Loss: 0.6241, Val Acc: 87.43%\n",
            "Epoch 13, Batch 0, Loss: 0.7090\n",
            "Epoch 13, Batch 10, Loss: 0.6302\n",
            "Epoch 13, Batch 20, Loss: 0.6078\n",
            "Epoch [13/30], Train Loss: 0.6480, Train Acc: 85.10%, Val Loss: 0.5878, Val Acc: 87.43%\n",
            "Epoch 14, Batch 0, Loss: 0.5886\n",
            "Epoch 14, Batch 10, Loss: 0.7772\n",
            "Epoch 14, Batch 20, Loss: 0.7083\n",
            "Epoch [14/30], Train Loss: 0.6111, Train Acc: 86.08%, Val Loss: 0.5629, Val Acc: 88.00%\n",
            "Epoch 15, Batch 0, Loss: 0.5551\n",
            "Epoch 15, Batch 10, Loss: 0.5988\n",
            "Epoch 15, Batch 20, Loss: 0.4986\n",
            "Epoch [15/30], Train Loss: 0.5842, Train Acc: 85.59%, Val Loss: 0.5262, Val Acc: 87.43%\n",
            "Epoch 16, Batch 0, Loss: 0.5254\n",
            "Epoch 16, Batch 10, Loss: 0.5646\n",
            "Epoch 16, Batch 20, Loss: 0.5900\n",
            "Epoch [16/30], Train Loss: 0.5559, Train Acc: 86.69%, Val Loss: 0.4893, Val Acc: 88.57%\n",
            "Epoch 17, Batch 0, Loss: 0.5632\n",
            "Epoch 17, Batch 10, Loss: 0.4859\n",
            "Epoch 17, Batch 20, Loss: 0.5541\n",
            "Epoch [17/30], Train Loss: 0.5112, Train Acc: 87.42%, Val Loss: 0.4680, Val Acc: 88.00%\n",
            "Epoch 18, Batch 0, Loss: 0.5294\n",
            "Epoch 18, Batch 10, Loss: 0.4358\n",
            "Epoch 18, Batch 20, Loss: 0.5259\n",
            "Epoch [18/30], Train Loss: 0.4802, Train Acc: 88.52%, Val Loss: 0.4388, Val Acc: 88.57%\n",
            "Epoch 19, Batch 0, Loss: 0.4938\n",
            "Epoch 19, Batch 10, Loss: 0.3982\n",
            "Epoch 19, Batch 20, Loss: 0.5105\n",
            "Epoch [19/30], Train Loss: 0.4602, Train Acc: 88.77%, Val Loss: 0.4201, Val Acc: 88.57%\n",
            "Epoch 20, Batch 0, Loss: 0.4909\n",
            "Epoch 20, Batch 10, Loss: 0.4755\n",
            "Epoch 20, Batch 20, Loss: 0.4123\n",
            "Epoch [20/30], Train Loss: 0.4293, Train Acc: 89.62%, Val Loss: 0.4104, Val Acc: 89.14%\n",
            "Epoch 21, Batch 0, Loss: 0.4679\n",
            "Epoch 21, Batch 10, Loss: 0.3477\n",
            "Epoch 21, Batch 20, Loss: 0.3300\n",
            "Epoch [21/30], Train Loss: 0.4208, Train Acc: 89.01%, Val Loss: 0.3799, Val Acc: 89.71%\n",
            "Epoch 22, Batch 0, Loss: 0.4542\n",
            "Epoch 22, Batch 10, Loss: 0.3921\n",
            "Epoch 22, Batch 20, Loss: 0.3258\n",
            "Epoch [22/30], Train Loss: 0.3844, Train Acc: 92.55%, Val Loss: 0.3673, Val Acc: 89.71%\n",
            "Epoch 23, Batch 0, Loss: 0.3261\n",
            "Epoch 23, Batch 10, Loss: 0.3604\n",
            "Epoch 23, Batch 20, Loss: 0.4009\n",
            "Epoch [23/30], Train Loss: 0.3836, Train Acc: 91.70%, Val Loss: 0.3504, Val Acc: 90.86%\n",
            "Epoch 24, Batch 0, Loss: 0.3741\n",
            "Epoch 24, Batch 10, Loss: 0.3911\n",
            "Epoch 24, Batch 20, Loss: 0.3906\n",
            "Epoch [24/30], Train Loss: 0.3626, Train Acc: 91.70%, Val Loss: 0.3341, Val Acc: 89.71%\n",
            "Epoch 25, Batch 0, Loss: 0.4587\n",
            "Epoch 25, Batch 10, Loss: 0.3765\n",
            "Epoch 25, Batch 20, Loss: 0.3306\n",
            "Epoch [25/30], Train Loss: 0.3483, Train Acc: 92.19%, Val Loss: 0.3153, Val Acc: 90.86%\n",
            "Epoch 26, Batch 0, Loss: 0.3472\n",
            "Epoch 26, Batch 10, Loss: 0.3538\n",
            "Epoch 26, Batch 20, Loss: 0.3240\n",
            "Epoch [26/30], Train Loss: 0.3354, Train Acc: 91.33%, Val Loss: 0.3085, Val Acc: 92.57%\n",
            "Epoch 27, Batch 0, Loss: 0.2171\n",
            "Epoch 27, Batch 10, Loss: 0.3153\n",
            "Epoch 27, Batch 20, Loss: 0.3675\n",
            "Epoch [27/30], Train Loss: 0.3089, Train Acc: 93.28%, Val Loss: 0.2946, Val Acc: 92.57%\n",
            "Epoch 28, Batch 0, Loss: 0.2895\n",
            "Epoch 28, Batch 10, Loss: 0.3122\n",
            "Epoch 28, Batch 20, Loss: 0.3544\n",
            "Epoch [28/30], Train Loss: 0.2981, Train Acc: 92.67%, Val Loss: 0.2824, Val Acc: 91.43%\n",
            "Epoch 29, Batch 0, Loss: 0.2703\n",
            "Epoch 29, Batch 10, Loss: 0.2904\n",
            "Epoch 29, Batch 20, Loss: 0.3654\n",
            "Epoch [29/30], Train Loss: 0.2920, Train Acc: 92.92%, Val Loss: 0.2680, Val Acc: 93.14%\n",
            "Epoch 30, Batch 0, Loss: 0.2884\n",
            "Epoch 30, Batch 10, Loss: 0.2204\n",
            "Epoch 30, Batch 20, Loss: 0.2138\n",
            "Epoch [30/30], Train Loss: 0.2749, Train Acc: 93.53%, Val Loss: 0.2697, Val Acc: 92.00%\n"
          ]
        }
      ]
    },
    {
      "cell_type": "code",
      "source": [],
      "metadata": {
        "id": "_Q62mJCNE9vy"
      },
      "execution_count": 8,
      "outputs": []
    },
    {
      "cell_type": "code",
      "source": [
        "# Plot training and validation metrics\n",
        "plt.figure(figsize=(12, 4))\n",
        "plt.subplot(1, 2, 1)\n",
        "plt.plot(train_losses, label='Train Loss')\n",
        "plt.plot(val_losses, label='Val Loss')\n",
        "plt.title('Loss over Epochs')\n",
        "plt.xlabel('Epoch')\n",
        "plt.ylabel('Loss')\n",
        "plt.legend()\n",
        "plt.grid(True)\n",
        "\n",
        "plt.subplot(1, 2, 2)\n",
        "plt.plot(train_accuracies, label='Train Accuracy')\n",
        "plt.plot(val_accuracies, label='Val Accuracy')\n",
        "plt.title('Accuracy over Epochs')\n",
        "plt.xlabel('Epoch')\n",
        "plt.ylabel('Accuracy (%)')\n",
        "plt.legend()\n",
        "plt.grid(True)\n",
        "plt.show()"
      ],
      "metadata": {
        "colab": {
          "base_uri": "https://localhost:8080/",
          "height": 410
        },
        "id": "MDhhN-LL4tpT",
        "outputId": "8d2d813d-a276-46c3-d0f8-cf7f0d869935"
      },
      "execution_count": 9,
      "outputs": [
        {
          "output_type": "display_data",
          "data": {
            "text/plain": [
              "<Figure size 1200x400 with 2 Axes>"
            ],
            "image/png": "[encoded data removed]"
          },
          "metadata": {}
        }
      ]
    },
    {
      "cell_type": "code",
      "source": [
        "# Ensure DataLoader is optimized\n",
        "test_loader = DataLoader(test_dataset, batch_size=32, shuffle=False, num_workers=2, pin_memory=True)\n",
        "\n",
        "# Evaluate on test set and compute accuracy\n",
        "model.eval()\n",
        "y_true, y_pred = [], []\n",
        "correct = 0\n",
        "total = 0\n",
        "\n",
        "with torch.no_grad():\n",
        "    for i, (rest_imgs, stress_imgs, labels) in enumerate(test_loader):\n",
        "        rest_imgs, stress_imgs, labels = rest_imgs.to(device), stress_imgs.to(device), labels.to(device)\n",
        "        outputs = model(rest_imgs, stress_imgs)\n",
        "        _, predicted = torch.max(outputs, 1)\n",
        "        y_true.extend(labels.cpu().numpy())\n",
        "        y_pred.extend(predicted.cpu().numpy())\n",
        "        total += labels.size(0)\n",
        "        correct += (predicted == labels).sum().item()\n",
        "        if i % 10 == 0:  # Print every 10 batches\n",
        "            print(f\"Processed batch {i}\")\n",
        "\n",
        "# Calculate and print test accuracy\n",
        "test_acc = 100 * correct / total\n",
        "print(f\"Test Accuracy: {test_acc:.2f}%\")"
      ],
      "metadata": {
        "colab": {
          "base_uri": "https://localhost:8080/"
        },
        "id": "7yBx8meS455P",
        "outputId": "cac72118-922a-4258-fe1f-598fa697eb84"
      },
      "execution_count": 10,
      "outputs": [
        {
          "output_type": "stream",
          "name": "stdout",
          "text": [
            "Processed batch 0\n",
            "Test Accuracy: 94.89%\n"
          ]
        }
      ]
    },
    {
      "source": [
        "# Calculate metrics\n",
        "f1 = f1_score(y_true, y_pred, average='weighted')\n",
        "recall = recall_score(y_true, y_pred, average='weighted')\n",
        "precision = precision_score(y_true, y_pred, average='weighted')\n",
        "\n",
        "print(f\"F1 Score: {f1:.4f}\")\n",
        "print(f\"Recall Score: {recall:.4f}\")\n",
        "print(f\"Precision Score: {precision:.4f}\")\n",
        "\n",
        "# Confusion matrix\n",
        "from sklearn.metrics import confusion_matrix # Import confusion_matrix here\n",
        "cm = confusion_matrix(y_true, y_pred)\n",
        "plt.figure(figsize=(8, 6))\n",
        "sns.heatmap(cm, annot=True, fmt='d', cmap='Blues', xticklabels=['Infarction', 'Ischemia', 'Normal'], yticklabels=['Infarction', 'Ischemia', 'Normal'])\n",
        "plt.title('Confusion Matrix')\n",
        "plt.xlabel('Predicted')\n",
        "plt.ylabel('True')\n",
        "plt.show()"
      ],
      "cell_type": "code",
      "metadata": {
        "colab": {
          "base_uri": "https://localhost:8080/",
          "height": 618
        },
        "id": "h3IQAPmGEJLS",
        "outputId": "fc6f2271-18c6-45ad-a961-e815de8abaac"
      },
      "execution_count": 11,
      "outputs": [
        {
          "output_type": "stream",
          "name": "stdout",
          "text": [
            "F1 Score: 0.9490\n",
            "Recall Score: 0.9489\n",
            "Precision Score: 0.9504\n"
          ]
        },
        {
          "output_type": "display_data",
          "data": {
            "text/plain": [
              "<Figure size 800x600 with 2 Axes>"
            ],
            "image/png": "[encoded data removed]"
          },
          "metadata": {}
        }
      ]
    }
  ],
  "metadata": {
    "colab": {
      "provenance": [],
      "gpuType": "T4"
    },
    "kernelspec": {
      "display_name": "Python 3",
      "name": "python3"
    },
    "language_info": {
      "name": "python"
    },
    "accelerator": "GPU"
  },
  "nbformat": 4,
  "nbformat_minor": 0
}